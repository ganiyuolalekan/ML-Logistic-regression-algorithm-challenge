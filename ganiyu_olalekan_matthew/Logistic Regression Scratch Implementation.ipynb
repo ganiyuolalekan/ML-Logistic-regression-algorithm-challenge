{
 "cells": [
  {
   "cell_type": "code",
   "execution_count": 1,
   "metadata": {},
   "outputs": [],
   "source": [
    "%matplotlib inline\n",
    "import numpy as np\n",
    "import matplotlib.pyplot as plt\n",
    "from sklearn import datasets\n",
    "from sklearn import linear_model"
   ]
  },
  {
   "cell_type": "code",
   "execution_count": 2,
   "metadata": {},
   "outputs": [],
   "source": [
    "iris = datasets.load_iris()"
   ]
  },
  {
   "cell_type": "code",
   "execution_count": 3,
   "metadata": {},
   "outputs": [],
   "source": [
    "class LogisticRegression:\n",
    "    def __init__(self, lr=0.01, num_iter=100, verbose=False, fit_intercept=True):\n",
    "        self.lr = lr\n",
    "        self.theta = None\n",
    "        self.verbose = verbose\n",
    "        self.num_iter = num_iter\n",
    "        self.fit_intercept = fit_intercept\n",
    "\n",
    "    @staticmethod\n",
    "    def __intercept(data):\n",
    "        intercept = np.ones((data.shape[0], 1))\n",
    "        return np.concatenate((intercept, data), axis=1)\n",
    "\n",
    "    @staticmethod\n",
    "    def __sigmoid(z):\n",
    "        return 1 / (1 + np.exp(-z))\n",
    "\n",
    "    @staticmethod\n",
    "    def __loss(h, y_hat):\n",
    "        return (-y_hat * np.log(h) - (1 - y_hat) * np.log(1 - h)).mean()\n",
    "\n",
    "    def fit(self, data, target):\n",
    "        if self.fit_intercept:\n",
    "            data = self.__intercept(data)\n",
    "\n",
    "        self.theta = np.zeros((data.shape[1], 1))\n",
    "\n",
    "        for _ in range(self.num_iter):\n",
    "            z = np.dot(data, self.theta)\n",
    "            h = self.__sigmoid(z)\n",
    "            loss = self.__loss(h, target)\n",
    "            gradient_d = np.dot(data.T, (h - target)) / target.shape[0]\n",
    "            self.theta -= (self.lr * gradient_d)\n",
    "\n",
    "            if self.verbose:\n",
    "                print(f\"Loss: {loss}\")\n",
    "\n",
    "    def __predict_probability(self, data):\n",
    "        return self.__sigmoid(np.dot(self.__intercept(data), self.theta))\n",
    "\n",
    "    def predict(self, test):\n",
    "        return self.__predict_probability(test).round()"
   ]
  },
  {
   "cell_type": "code",
   "execution_count": 4,
   "metadata": {},
   "outputs": [],
   "source": [
    "X = iris.data[:100, :]\n",
    "y = iris.target.reshape(150, 1)[:100, :]"
   ]
  },
  {
   "cell_type": "code",
   "execution_count": 5,
   "metadata": {},
   "outputs": [],
   "source": [
    "x_train = np.vstack((X[:32, :], X[50:82, :]))\n",
    "x_test = np.vstack((X[32:50, :], X[82:100, :]))\n",
    "y_train = np.vstack((y[:32, :], y[50:82, :]))\n",
    "y_test = np.vstack((y[32:50, :], y[82:100, :]))"
   ]
  },
  {
   "cell_type": "code",
   "execution_count": 6,
   "metadata": {},
   "outputs": [],
   "source": [
    "def accuracy(prediction, output):\n",
    "    bool_elem = (prediction == output)\n",
    "    elem = bool_elem.size\n",
    "    return (100 / elem) * bool_elem.ravel().tolist().count(True)\n",
    "\n",
    "\n",
    "def data_visualization(data, target, figsize=(10, 6)):\n",
    "    plt.figure(figsize=figsize)\n",
    "    plt.scatter(data[:, :1][target == 0], data[:, 1:2][target == 0], color='b', label='0')\n",
    "    plt.scatter(data[:, :1][target == 1], data[:, 1:2][target == 1], color='r', label='1')\n",
    "    plt.legend()"
   ]
  },
  {
   "cell_type": "code",
   "execution_count": 7,
   "metadata": {},
   "outputs": [
    {
     "data": {
      "image/png": "[encoded data removed]",
      "text/plain": [
       "<Figure size 720x432 with 1 Axes>"
      ]
     },
     "metadata": {
      "needs_background": "light"
     },
     "output_type": "display_data"
    }
   ],
   "source": [
    "data_visualization(X, y)"
   ]
  },
  {
   "cell_type": "code",
   "execution_count": 8,
   "metadata": {},
   "outputs": [],
   "source": [
    "model = LogisticRegression(num_iter=50)"
   ]
  },
  {
   "cell_type": "code",
   "execution_count": 9,
   "metadata": {},
   "outputs": [
    {
     "name": "stdout",
     "output_type": "stream",
     "text": [
      "CPU times: user 10.6 ms, sys: 0 ns, total: 10.6 ms\n",
      "Wall time: 9.62 ms\n"
     ]
    }
   ],
   "source": [
    "# Time Measurement\n",
    "\n",
    "%time model.fit(x_train, y_train)"
   ]
  },
  {
   "cell_type": "code",
   "execution_count": 10,
   "metadata": {},
   "outputs": [
    {
     "name": "stdout",
     "output_type": "stream",
     "text": [
      "Accuracy: 100.0\n"
     ]
    }
   ],
   "source": [
    "# Accuracy Measurement in %\n",
    "\n",
    "prediction = model.predict(x_test)\n",
    "print(f\"Accuracy: {accuracy(prediction, y_test)}\")"
   ]
  },
  {
   "cell_type": "code",
   "execution_count": 11,
   "metadata": {},
   "outputs": [
    {
     "name": "stdout",
     "output_type": "stream",
     "text": [
      "CPU times: user 20.9 ms, sys: 159 µs, total: 21 ms\n",
      "Wall time: 20.1 ms\n"
     ]
    },
    {
     "name": "stderr",
     "output_type": "stream",
     "text": [
      "/home/olalekan/.local/lib/python3.6/site-packages/sklearn/utils/validation.py:760: DataConversionWarning: A column-vector y was passed when a 1d array was expected. Please change the shape of y to (n_samples, ), for example using ravel().\n",
      "  y = column_or_1d(y, warn=True)\n"
     ]
    },
    {
     "data": {
      "text/plain": [
       "LogisticRegression(C=1.0, class_weight=None, dual=False, fit_intercept=True,\n",
       "                   intercept_scaling=1, l1_ratio=None, max_iter=100,\n",
       "                   multi_class='auto', n_jobs=None, penalty='l2',\n",
       "                   random_state=None, solver='lbfgs', tol=0.0001, verbose=0,\n",
       "                   warm_start=False)"
      ]
     },
     "execution_count": 11,
     "metadata": {},
     "output_type": "execute_result"
    }
   ],
   "source": [
    "# Comparing with the scikit learn Logistic Regression class\n",
    "\n",
    "sk_model = linear_model.LogisticRegression()\n",
    "\n",
    "%time sk_model.fit(x_train, y_train)"
   ]
  },
  {
   "cell_type": "code",
   "execution_count": 12,
   "metadata": {},
   "outputs": [
    {
     "name": "stdout",
     "output_type": "stream",
     "text": [
      "Accuracy: 50.0\n"
     ]
    }
   ],
   "source": [
    "# Comparing with the scikit learn Logistic Regression class\n",
    "# Accuracy Measurement in %\n",
    "\n",
    "prediction = sk_model.predict(x_test)\n",
    "print(f\"Accuracy: {accuracy(prediction, y_test)}\")"
   ]
  },
  {
   "cell_type": "code",
   "execution_count": null,
   "metadata": {},
   "outputs": [],
   "source": []
  }
 ],
 "metadata": {
  "kernelspec": {
   "display_name": "Python 3",
   "language": "python",
   "name": "python3"
  },
  "language_info": {
   "codemirror_mode": {
    "name": "ipython",
    "version": 3
   },
   "file_extension": ".py",
   "mimetype": "text/x-python",
   "name": "python",
   "nbconvert_exporter": "python",
   "pygments_lexer": "ipython3",
   "version": "3.6.8"
  }
 },
 "nbformat": 4,
 "nbformat_minor": 4
}
